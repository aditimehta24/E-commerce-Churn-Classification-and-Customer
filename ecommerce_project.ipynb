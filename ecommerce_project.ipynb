{
 "cells": [
  {
   "cell_type": "code",
   "execution_count": null,
   "metadata": {},
   "outputs": [],
   "source": []
  },
  {
   "cell_type": "code",
   "execution_count": 1,
   "metadata": {},
   "outputs": [
    {
     "ename": "ModuleNotFoundError",
     "evalue": "No module named 'pandas'",
     "output_type": "error",
     "traceback": [
      "\u001b[31m---------------------------------------------------------------------------\u001b[39m",
      "\u001b[31mModuleNotFoundError\u001b[39m                       Traceback (most recent call last)",
      "\u001b[36mCell\u001b[39m\u001b[36m \u001b[39m\u001b[32mIn[1]\u001b[39m\u001b[32m, line 1\u001b[39m\n\u001b[32m----> \u001b[39m\u001b[32m1\u001b[39m \u001b[38;5;28;01mimport\u001b[39;00m\u001b[38;5;250m \u001b[39m\u001b[34;01mpandas\u001b[39;00m\u001b[38;5;250m \u001b[39m\u001b[38;5;28;01mas\u001b[39;00m\u001b[38;5;250m \u001b[39m\u001b[34;01mpd\u001b[39;00m\n\u001b[32m      2\u001b[39m \u001b[38;5;28;01mimport\u001b[39;00m\u001b[38;5;250m \u001b[39m\u001b[34;01mnumpy\u001b[39;00m\u001b[38;5;250m \u001b[39m\u001b[38;5;28;01mas\u001b[39;00m\u001b[38;5;250m \u001b[39m\u001b[34;01mnp\u001b[39;00m\n\u001b[32m      3\u001b[39m \u001b[38;5;28;01mimport\u001b[39;00m\u001b[38;5;250m \u001b[39m\u001b[34;01mmatplotlib\u001b[39;00m\u001b[34;01m.\u001b[39;00m\u001b[34;01mpyplot\u001b[39;00m\u001b[38;5;250m \u001b[39m\u001b[38;5;28;01mas\u001b[39;00m\u001b[38;5;250m \u001b[39m\u001b[34;01mplt\u001b[39;00m\n",
      "\u001b[31mModuleNotFoundError\u001b[39m: No module named 'pandas'"
     ]
    }
   ],
   "source": [
    "import pandas as pd\n",
    "import numpy as np\n",
    "import matplotlib.pyplot as plt\n",
    "import seaborn as sns\n",
    "from sklearn.model_selection import train_test_split, GridSearchCV\n",
    "from sklearn.tree import DecisionTreeClassifier\n",
    "from sklearn.neighbors import KNeighborsClassifier\n",
    "from sklearn.naive_bayes import GaussianNB\n",
    "from sklearn.preprocessing import StandardScaler, LabelEncoder\n",
    "from sklearn.metrics import classification_report, confusion_matrix\n"
   ]
  },
  {
   "cell_type": "code",
   "execution_count": null,
   "metadata": {},
   "outputs": [
    {
     "ename": "NameError",
     "evalue": "name 'pd' is not defined",
     "output_type": "error",
     "traceback": [
      "\u001b[31m---------------------------------------------------------------------------\u001b[39m",
      "\u001b[31mNameError\u001b[39m                                 Traceback (most recent call last)",
      "\u001b[36mCell\u001b[39m\u001b[36m \u001b[39m\u001b[32mIn[3]\u001b[39m\u001b[32m, line 2\u001b[39m\n\u001b[32m      1\u001b[39m \u001b[38;5;66;03m# Load the dataset\u001b[39;00m\n\u001b[32m----> \u001b[39m\u001b[32m2\u001b[39m data = \u001b[43mpd\u001b[49m.read_csv(\u001b[33m'\u001b[39m\u001b[33mecommerce_data.csv\u001b[39m\u001b[33m'\u001b[39m)\n\u001b[32m      4\u001b[39m \u001b[38;5;66;03m# Check the first few rows\u001b[39;00m\n\u001b[32m      5\u001b[39m \u001b[38;5;28mprint\u001b[39m(data.head())\n",
      "\u001b[31mNameError\u001b[39m: name 'pd' is not defined"
     ]
    }
   ],
   "source": [
    "# Load the dataset\n",
    "data = pd.read_csv('ecommerce_data.csv')\n",
    "\n",
    "# Check the first few rows\n",
    "print(data.head())\n"
   ]
  },
  {
   "cell_type": "code",
   "execution_count": null,
   "metadata": {},
   "outputs": [
    {
     "name": "stdout",
     "output_type": "stream",
     "text": [
      "<class 'pandas.core.frame.DataFrame'>\n",
      "RangeIndex: 5630 entries, 0 to 5629\n",
      "Data columns (total 20 columns):\n",
      " #   Column                       Non-Null Count  Dtype  \n",
      "---  ------                       --------------  -----  \n",
      " 0   CustomerID                   5630 non-null   int64  \n",
      " 1   Churn                        5630 non-null   int64  \n",
      " 2   Tenure                       5366 non-null   float64\n",
      " 3   PreferredLoginDevice         5630 non-null   object \n",
      " 4   CityTier                     5630 non-null   int64  \n",
      " 5   WarehouseToHome              5379 non-null   float64\n",
      " 6   PreferredPaymentMode         5630 non-null   object \n",
      " 7   Gender                       5630 non-null   object \n",
      " 8   HourSpendOnApp               5375 non-null   float64\n",
      " 9   NumberOfDeviceRegistered     5630 non-null   int64  \n",
      " 10  PreferedOrderCat             5630 non-null   object \n",
      " 11  SatisfactionScore            5630 non-null   int64  \n",
      " 12  MaritalStatus                5630 non-null   object \n",
      " 13  NumberOfAddress              5630 non-null   int64  \n",
      " 14  Complain                     5630 non-null   int64  \n",
      " 15  OrderAmountHikeFromlastYear  5365 non-null   float64\n",
      " 16  CouponUsed                   5374 non-null   float64\n",
      " 17  OrderCount                   5372 non-null   float64\n",
      " 18  DaySinceLastOrder            5323 non-null   float64\n",
      " 19  CashbackAmount               5630 non-null   int64  \n",
      "dtypes: float64(7), int64(8), object(5)\n",
      "memory usage: 879.8+ KB\n",
      "None\n",
      "         CustomerID        Churn       Tenure     CityTier  WarehouseToHome  \\\n",
      "count   5630.000000  5630.000000  5366.000000  5630.000000      5379.000000   \n",
      "mean   52815.500000     0.168384    10.189899     1.654707        15.639896   \n",
      "std     1625.385339     0.374240     8.557241     0.915389         8.531475   \n",
      "min    50001.000000     0.000000     0.000000     1.000000         5.000000   \n",
      "25%    51408.250000     0.000000     2.000000     1.000000         9.000000   \n",
      "50%    52815.500000     0.000000     9.000000     1.000000        14.000000   \n",
      "75%    54222.750000     0.000000    16.000000     3.000000        20.000000   \n",
      "max    55630.000000     1.000000    61.000000     3.000000       127.000000   \n",
      "\n",
      "       HourSpendOnApp  NumberOfDeviceRegistered  SatisfactionScore  \\\n",
      "count     5375.000000               5630.000000        5630.000000   \n",
      "mean         2.931535                  3.688988           3.066785   \n",
      "std          0.721926                  1.023999           1.380194   \n",
      "min          0.000000                  1.000000           1.000000   \n",
      "25%          2.000000                  3.000000           2.000000   \n",
      "50%          3.000000                  4.000000           3.000000   \n",
      "75%          3.000000                  4.000000           4.000000   \n",
      "max          5.000000                  6.000000           5.000000   \n",
      "\n",
      "       NumberOfAddress     Complain  OrderAmountHikeFromlastYear   CouponUsed  \\\n",
      "count      5630.000000  5630.000000                  5365.000000  5374.000000   \n",
      "mean          4.214032     0.284902                    15.707922     1.751023   \n",
      "std           2.583586     0.451408                     3.675485     1.894621   \n",
      "min           1.000000     0.000000                    11.000000     0.000000   \n",
      "25%           2.000000     0.000000                    13.000000     1.000000   \n",
      "50%           3.000000     0.000000                    15.000000     1.000000   \n",
      "75%           6.000000     1.000000                    18.000000     2.000000   \n",
      "max          22.000000     1.000000                    26.000000    16.000000   \n",
      "\n",
      "        OrderCount  DaySinceLastOrder  CashbackAmount  \n",
      "count  5372.000000        5323.000000     5630.000000  \n",
      "mean      3.008004           4.543491      177.221492  \n",
      "std       2.939680           3.654433       49.193869  \n",
      "min       1.000000           0.000000        0.000000  \n",
      "25%       1.000000           2.000000      146.000000  \n",
      "50%       2.000000           3.000000      163.000000  \n",
      "75%       3.000000           7.000000      196.000000  \n",
      "max      16.000000          46.000000      325.000000  \n"
     ]
    }
   ],
   "source": [
    "print(data.info())\n",
    "print(data.describe())\n"
   ]
  },
  {
   "cell_type": "code",
   "execution_count": null,
   "metadata": {},
   "outputs": [
    {
     "ename": "NameError",
     "evalue": "name 'data' is not defined",
     "output_type": "error",
     "traceback": [
      "\u001b[31m---------------------------------------------------------------------------\u001b[39m",
      "\u001b[31mNameError\u001b[39m                                 Traceback (most recent call last)",
      "\u001b[36mCell\u001b[39m\u001b[36m \u001b[39m\u001b[32mIn[6]\u001b[39m\u001b[32m, line 1\u001b[39m\n\u001b[32m----> \u001b[39m\u001b[32m1\u001b[39m \u001b[38;5;28mprint\u001b[39m(\u001b[43mdata\u001b[49m.isnull().sum())\n",
      "\u001b[31mNameError\u001b[39m: name 'data' is not defined"
     ]
    }
   ],
   "source": [
    "print(data.isnull().sum())\n"
   ]
  },
  {
   "cell_type": "code",
   "execution_count": null,
   "metadata": {},
   "outputs": [
    {
     "name": "stderr",
     "output_type": "stream",
     "text": [
      "C:\\Users\\amitm\\AppData\\Local\\Temp\\ipykernel_18320\\1984096990.py:1: FutureWarning: DataFrame.fillna with 'method' is deprecated and will raise in a future version. Use obj.ffill() or obj.bfill() instead.\n",
      "  data.fillna(method='ffill', inplace=True)\n"
     ]
    }
   ],
   "source": [
    "data.fillna(method='ffill', inplace=True)\n"
   ]
  },
  {
   "cell_type": "code",
   "execution_count": null,
   "metadata": {},
   "outputs": [],
   "source": [
    "encoder = LabelEncoder()\n",
    "data['Gender'] = encoder.fit_transform(data['Gender'])  # Example\n"
   ]
  },
  {
   "cell_type": "code",
   "execution_count": null,
   "metadata": {},
   "outputs": [],
   "source": [
    "scaler = StandardScaler()\n",
    "numeric_columns = ['Tenure']  # Replace with your dataset columns\n",
    "data[numeric_columns] = scaler.fit_transform(data[numeric_columns])\n"
   ]
  },
  {
   "cell_type": "code",
   "execution_count": null,
   "metadata": {},
   "outputs": [
    {
     "name": "stdout",
     "output_type": "stream",
     "text": [
      "Index(['CustomerID', 'Churn', 'Tenure', 'PreferredLoginDevice', 'CityTier',\n",
      "       'WarehouseToHome', 'PreferredPaymentMode', 'Gender', 'HourSpendOnApp',\n",
      "       'NumberOfDeviceRegistered', 'PreferedOrderCat', 'SatisfactionScore',\n",
      "       'MaritalStatus', 'NumberOfAddress', 'Complain',\n",
      "       'OrderAmountHikeFromlastYear', 'CouponUsed', 'OrderCount',\n",
      "       'DaySinceLastOrder', 'CashbackAmount'],\n",
      "      dtype='object')\n"
     ]
    }
   ],
   "source": [
    "print(data.columns)\n"
   ]
  },
  {
   "cell_type": "code",
   "execution_count": null,
   "metadata": {},
   "outputs": [],
   "source": [
    "numeric_columns = ['Tenure (Months)', 'Purchase Frequency']\n"
   ]
  },
  {
   "cell_type": "code",
   "execution_count": null,
   "metadata": {},
   "outputs": [
    {
     "name": "stdout",
     "output_type": "stream",
     "text": [
      "CustomerID                       int64\n",
      "Churn                            int64\n",
      "Tenure                         float64\n",
      "PreferredLoginDevice            object\n",
      "CityTier                         int64\n",
      "WarehouseToHome                float64\n",
      "PreferredPaymentMode            object\n",
      "Gender                           int64\n",
      "HourSpendOnApp                 float64\n",
      "NumberOfDeviceRegistered         int64\n",
      "PreferedOrderCat                object\n",
      "SatisfactionScore                int64\n",
      "MaritalStatus                   object\n",
      "NumberOfAddress                  int64\n",
      "Complain                         int64\n",
      "OrderAmountHikeFromlastYear    float64\n",
      "CouponUsed                     float64\n",
      "OrderCount                     float64\n",
      "DaySinceLastOrder              float64\n",
      "CashbackAmount                   int64\n",
      "dtype: object\n"
     ]
    }
   ],
   "source": [
    "print(data.dtypes)\n",
    "\n"
   ]
  },
  {
   "cell_type": "code",
   "execution_count": null,
   "metadata": {},
   "outputs": [
    {
     "ename": "KeyError",
     "evalue": "\"None of [Index(['Tenure (Months)', 'Purchase Frequency'], dtype='object')] are in the [columns]\"",
     "output_type": "error",
     "traceback": [
      "\u001b[1;31m---------------------------------------------------------------------------\u001b[0m",
      "\u001b[1;31mKeyError\u001b[0m                                  Traceback (most recent call last)",
      "Cell \u001b[1;32mIn[17], line 4\u001b[0m\n\u001b[0;32m      1\u001b[0m \u001b[38;5;28;01mfrom\u001b[39;00m\u001b[38;5;250m \u001b[39m\u001b[38;5;21;01msklearn\u001b[39;00m\u001b[38;5;21;01m.\u001b[39;00m\u001b[38;5;21;01mpreprocessing\u001b[39;00m\u001b[38;5;250m \u001b[39m\u001b[38;5;28;01mimport\u001b[39;00m StandardScaler\n\u001b[0;32m      3\u001b[0m scaler \u001b[38;5;241m=\u001b[39m StandardScaler()\n\u001b[1;32m----> 4\u001b[0m data[numeric_columns] \u001b[38;5;241m=\u001b[39m scaler\u001b[38;5;241m.\u001b[39mfit_transform(\u001b[43mdata\u001b[49m\u001b[43m[\u001b[49m\u001b[43mnumeric_columns\u001b[49m\u001b[43m]\u001b[49m)\n",
      "File \u001b[1;32m~\\AppData\\Local\\Packages\\PythonSoftwareFoundation.Python.3.11_qbz5n2kfra8p0\\LocalCache\\local-packages\\Python311\\site-packages\\pandas\\core\\frame.py:4108\u001b[0m, in \u001b[0;36mDataFrame.__getitem__\u001b[1;34m(self, key)\u001b[0m\n\u001b[0;32m   4106\u001b[0m     \u001b[38;5;28;01mif\u001b[39;00m is_iterator(key):\n\u001b[0;32m   4107\u001b[0m         key \u001b[38;5;241m=\u001b[39m \u001b[38;5;28mlist\u001b[39m(key)\n\u001b[1;32m-> 4108\u001b[0m     indexer \u001b[38;5;241m=\u001b[39m \u001b[38;5;28;43mself\u001b[39;49m\u001b[38;5;241;43m.\u001b[39;49m\u001b[43mcolumns\u001b[49m\u001b[38;5;241;43m.\u001b[39;49m\u001b[43m_get_indexer_strict\u001b[49m\u001b[43m(\u001b[49m\u001b[43mkey\u001b[49m\u001b[43m,\u001b[49m\u001b[43m \u001b[49m\u001b[38;5;124;43m\"\u001b[39;49m\u001b[38;5;124;43mcolumns\u001b[39;49m\u001b[38;5;124;43m\"\u001b[39;49m\u001b[43m)\u001b[49m[\u001b[38;5;241m1\u001b[39m]\n\u001b[0;32m   4110\u001b[0m \u001b[38;5;66;03m# take() does not accept boolean indexers\u001b[39;00m\n\u001b[0;32m   4111\u001b[0m \u001b[38;5;28;01mif\u001b[39;00m \u001b[38;5;28mgetattr\u001b[39m(indexer, \u001b[38;5;124m\"\u001b[39m\u001b[38;5;124mdtype\u001b[39m\u001b[38;5;124m\"\u001b[39m, \u001b[38;5;28;01mNone\u001b[39;00m) \u001b[38;5;241m==\u001b[39m \u001b[38;5;28mbool\u001b[39m:\n",
      "File \u001b[1;32m~\\AppData\\Local\\Packages\\PythonSoftwareFoundation.Python.3.11_qbz5n2kfra8p0\\LocalCache\\local-packages\\Python311\\site-packages\\pandas\\core\\indexes\\base.py:6200\u001b[0m, in \u001b[0;36mIndex._get_indexer_strict\u001b[1;34m(self, key, axis_name)\u001b[0m\n\u001b[0;32m   6197\u001b[0m \u001b[38;5;28;01melse\u001b[39;00m:\n\u001b[0;32m   6198\u001b[0m     keyarr, indexer, new_indexer \u001b[38;5;241m=\u001b[39m \u001b[38;5;28mself\u001b[39m\u001b[38;5;241m.\u001b[39m_reindex_non_unique(keyarr)\n\u001b[1;32m-> 6200\u001b[0m \u001b[38;5;28;43mself\u001b[39;49m\u001b[38;5;241;43m.\u001b[39;49m\u001b[43m_raise_if_missing\u001b[49m\u001b[43m(\u001b[49m\u001b[43mkeyarr\u001b[49m\u001b[43m,\u001b[49m\u001b[43m \u001b[49m\u001b[43mindexer\u001b[49m\u001b[43m,\u001b[49m\u001b[43m \u001b[49m\u001b[43maxis_name\u001b[49m\u001b[43m)\u001b[49m\n\u001b[0;32m   6202\u001b[0m keyarr \u001b[38;5;241m=\u001b[39m \u001b[38;5;28mself\u001b[39m\u001b[38;5;241m.\u001b[39mtake(indexer)\n\u001b[0;32m   6203\u001b[0m \u001b[38;5;28;01mif\u001b[39;00m \u001b[38;5;28misinstance\u001b[39m(key, Index):\n\u001b[0;32m   6204\u001b[0m     \u001b[38;5;66;03m# GH 42790 - Preserve name from an Index\u001b[39;00m\n",
      "File \u001b[1;32m~\\AppData\\Local\\Packages\\PythonSoftwareFoundation.Python.3.11_qbz5n2kfra8p0\\LocalCache\\local-packages\\Python311\\site-packages\\pandas\\core\\indexes\\base.py:6249\u001b[0m, in \u001b[0;36mIndex._raise_if_missing\u001b[1;34m(self, key, indexer, axis_name)\u001b[0m\n\u001b[0;32m   6247\u001b[0m \u001b[38;5;28;01mif\u001b[39;00m nmissing:\n\u001b[0;32m   6248\u001b[0m     \u001b[38;5;28;01mif\u001b[39;00m nmissing \u001b[38;5;241m==\u001b[39m \u001b[38;5;28mlen\u001b[39m(indexer):\n\u001b[1;32m-> 6249\u001b[0m         \u001b[38;5;28;01mraise\u001b[39;00m \u001b[38;5;167;01mKeyError\u001b[39;00m(\u001b[38;5;124mf\u001b[39m\u001b[38;5;124m\"\u001b[39m\u001b[38;5;124mNone of [\u001b[39m\u001b[38;5;132;01m{\u001b[39;00mkey\u001b[38;5;132;01m}\u001b[39;00m\u001b[38;5;124m] are in the [\u001b[39m\u001b[38;5;132;01m{\u001b[39;00maxis_name\u001b[38;5;132;01m}\u001b[39;00m\u001b[38;5;124m]\u001b[39m\u001b[38;5;124m\"\u001b[39m)\n\u001b[0;32m   6251\u001b[0m     not_found \u001b[38;5;241m=\u001b[39m \u001b[38;5;28mlist\u001b[39m(ensure_index(key)[missing_mask\u001b[38;5;241m.\u001b[39mnonzero()[\u001b[38;5;241m0\u001b[39m]]\u001b[38;5;241m.\u001b[39munique())\n\u001b[0;32m   6252\u001b[0m     \u001b[38;5;28;01mraise\u001b[39;00m \u001b[38;5;167;01mKeyError\u001b[39;00m(\u001b[38;5;124mf\u001b[39m\u001b[38;5;124m\"\u001b[39m\u001b[38;5;132;01m{\u001b[39;00mnot_found\u001b[38;5;132;01m}\u001b[39;00m\u001b[38;5;124m not in index\u001b[39m\u001b[38;5;124m\"\u001b[39m)\n",
      "\u001b[1;31mKeyError\u001b[0m: \"None of [Index(['Tenure (Months)', 'Purchase Frequency'], dtype='object')] are in the [columns]\""
     ]
    }
   ],
   "source": [
    "from sklearn.preprocessing import StandardScaler\n",
    "\n",
    "scaler = StandardScaler()\n",
    "data[numeric_columns] = scaler.fit_transform(data[numeric_columns])\n"
   ]
  },
  {
   "cell_type": "code",
   "execution_count": null,
   "metadata": {},
   "outputs": [],
   "source": [
    "numeric_columns = ['Tenure', 'WarehouseToHome', 'HourSpendOnApp', \n",
    "                   'OrderAmountHikeFromlastYear', 'CouponUsed', \n",
    "                   'OrderCount', 'DaySinceLastOrder', 'CashbackAmount']\n"
   ]
  },
  {
   "cell_type": "code",
   "execution_count": null,
   "metadata": {},
   "outputs": [],
   "source": [
    "from sklearn.preprocessing import StandardScaler\n",
    "\n",
    "scaler = StandardScaler()\n",
    "data[numeric_columns] = scaler.fit_transform(data[numeric_columns])\n"
   ]
  },
  {
   "cell_type": "code",
   "execution_count": null,
   "metadata": {},
   "outputs": [
    {
     "name": "stdout",
     "output_type": "stream",
     "text": [
      "     Tenure  WarehouseToHome  HourSpendOnApp  OrderAmountHikeFromlastYear  \\\n",
      "0 -0.720360        -1.100218        0.129461                    -1.282696   \n",
      "1 -0.720360        -0.872187        0.129461                    -0.198416   \n",
      "2 -0.720360         1.636151       -1.250966                    -0.469486   \n",
      "3 -1.187504        -0.074080       -1.250966                     1.970145   \n",
      "4 -1.187504        -0.416126       -1.250966                    -1.282696   \n",
      "\n",
      "   CouponUsed  OrderCount  DaySinceLastOrder  CashbackAmount  \n",
      "0   -0.389377   -0.685185           0.119582       -0.350105  \n",
      "1   -0.922626   -0.685185          -1.247697       -1.142957  \n",
      "2   -0.922626   -0.685185          -0.427330       -1.163287  \n",
      "3   -0.922626   -0.685185          -0.427330       -0.878673  \n",
      "4   -0.389377   -0.685185          -0.427330       -0.959991  \n"
     ]
    }
   ],
   "source": [
    "print(data[numeric_columns].head())\n",
    "\n"
   ]
  },
  {
   "cell_type": "code",
   "execution_count": null,
   "metadata": {},
   "outputs": [
    {
     "name": "stdout",
     "output_type": "stream",
     "text": [
      "   CustomerID  Churn    Tenure  CityTier  WarehouseToHome  Gender  \\\n",
      "0       50001      1 -0.720360         3        -1.100218       0   \n",
      "1       50002      1 -0.720360         1        -0.872187       1   \n",
      "2       50003      1 -0.720360         1         1.636151       1   \n",
      "3       50004      1 -1.187504         3        -0.074080       1   \n",
      "4       50005      1 -1.187504         1        -0.416126       1   \n",
      "\n",
      "   HourSpendOnApp  NumberOfDeviceRegistered  SatisfactionScore  \\\n",
      "0        0.129461                         3                  2   \n",
      "1        0.129461                         4                  3   \n",
      "2       -1.250966                         4                  3   \n",
      "3       -1.250966                         4                  5   \n",
      "4       -1.250966                         3                  5   \n",
      "\n",
      "   NumberOfAddress  ...  PreferredPaymentMode_Debit Card  \\\n",
      "0                9  ...                             True   \n",
      "1                7  ...                            False   \n",
      "2                6  ...                             True   \n",
      "3                8  ...                             True   \n",
      "4                3  ...                            False   \n",
      "\n",
      "   PreferredPaymentMode_E wallet  PreferredPaymentMode_UPI  \\\n",
      "0                          False                     False   \n",
      "1                          False                      True   \n",
      "2                          False                     False   \n",
      "3                          False                     False   \n",
      "4                          False                     False   \n",
      "\n",
      "   PreferedOrderCat_Grocery  PreferedOrderCat_Laptop & Accessory  \\\n",
      "0                     False                                 True   \n",
      "1                     False                                False   \n",
      "2                     False                                False   \n",
      "3                     False                                 True   \n",
      "4                     False                                False   \n",
      "\n",
      "   PreferedOrderCat_Mobile  PreferedOrderCat_Mobile Phone  \\\n",
      "0                    False                          False   \n",
      "1                     True                          False   \n",
      "2                     True                          False   \n",
      "3                    False                          False   \n",
      "4                     True                          False   \n",
      "\n",
      "   PreferedOrderCat_Others  MaritalStatus_Married  MaritalStatus_Single  \n",
      "0                    False                  False                  True  \n",
      "1                    False                  False                  True  \n",
      "2                    False                  False                  True  \n",
      "3                    False                  False                  True  \n",
      "4                    False                  False                  True  \n",
      "\n",
      "[5 rows x 31 columns]\n"
     ]
    }
   ],
   "source": [
    "from sklearn.preprocessing import OneHotEncoder\n",
    "\n",
    "# Select categorical columns\n",
    "categorical_columns = ['PreferredLoginDevice', 'PreferredPaymentMode', 'PreferedOrderCat', 'MaritalStatus']\n",
    "\n",
    "# One-hot encoding\n",
    "data = pd.get_dummies(data, columns=categorical_columns, drop_first=True)\n",
    "\n",
    "# Check the dataset after encoding\n",
    "print(data.head())\n"
   ]
  },
  {
   "cell_type": "code",
   "execution_count": null,
   "metadata": {},
   "outputs": [
    {
     "name": "stdout",
     "output_type": "stream",
     "text": [
      "(5630, 29) (5630,)\n"
     ]
    }
   ],
   "source": [
    "# Separate features and target variable\n",
    "X = data.drop(columns=['Churn', 'CustomerID'])  # Drop 'CustomerID' as it’s not relevant\n",
    "y = data['Churn']\n",
    "\n",
    "# Check the shapes of X and y\n",
    "print(X.shape, y.shape)\n"
   ]
  },
  {
   "cell_type": "code",
   "execution_count": null,
   "metadata": {},
   "outputs": [
    {
     "name": "stdout",
     "output_type": "stream",
     "text": [
      "(4504, 29) (1126, 29) (4504,) (1126,)\n"
     ]
    }
   ],
   "source": [
    "from sklearn.model_selection import train_test_split\n",
    "\n",
    "# Split the data\n",
    "X_train, X_test, y_train, y_test = train_test_split(X, y, test_size=0.2, random_state=42)\n",
    "\n",
    "# Check the shapes of the splits\n",
    "print(X_train.shape, X_test.shape, y_train.shape, y_test.shape)\n"
   ]
  },
  {
   "cell_type": "code",
   "execution_count": null,
   "metadata": {},
   "outputs": [
    {
     "name": "stdout",
     "output_type": "stream",
     "text": [
      "Decision Tree Accuracy: 0.9626998223801065\n"
     ]
    }
   ],
   "source": [
    "from sklearn.tree import DecisionTreeClassifier\n",
    "from sklearn.metrics import accuracy_score\n",
    "\n",
    "# Train the model\n",
    "dt_model = DecisionTreeClassifier(random_state=42)\n",
    "dt_model.fit(X_train, y_train)\n",
    "\n",
    "# Make predictions\n",
    "y_pred = dt_model.predict(X_test)\n",
    "\n",
    "# Evaluate the model\n",
    "dt_accuracy = accuracy_score(y_test, y_pred)\n",
    "print(f\"Decision Tree Accuracy: {dt_accuracy}\")\n"
   ]
  },
  {
   "cell_type": "code",
   "execution_count": null,
   "metadata": {},
   "outputs": [
    {
     "name": "stdout",
     "output_type": "stream",
     "text": [
      "KNN Accuracy: 0.9156305506216696\n",
      "Naive Bayes Accuracy: 0.7486678507992895\n"
     ]
    }
   ],
   "source": [
    "# KNN\n",
    "from sklearn.neighbors import KNeighborsClassifier\n",
    "\n",
    "knn_model = KNeighborsClassifier(n_neighbors=5)\n",
    "knn_model.fit(X_train, y_train)\n",
    "y_pred_knn = knn_model.predict(X_test)\n",
    "knn_accuracy = accuracy_score(y_test, y_pred_knn)\n",
    "print(f\"KNN Accuracy: {knn_accuracy}\")\n",
    "\n",
    "# Naive Bayes\n",
    "from sklearn.naive_bayes import GaussianNB\n",
    "\n",
    "nb_model = GaussianNB()\n",
    "nb_model.fit(X_train, y_train)\n",
    "y_pred_nb = nb_model.predict(X_test)\n",
    "nb_accuracy = accuracy_score(y_test, y_pred_nb)\n",
    "print(f\"Naive Bayes Accuracy: {nb_accuracy}\")\n"
   ]
  },
  {
   "cell_type": "code",
   "execution_count": null,
   "metadata": {},
   "outputs": [
    {
     "name": "stdout",
     "output_type": "stream",
     "text": [
      "Best Parameters: {'max_depth': None, 'min_samples_split': 2}\n",
      "Best Accuracy: 0.9322843753853742\n"
     ]
    }
   ],
   "source": [
    "from sklearn.model_selection import GridSearchCV\n",
    "\n",
    "# Define parameter grid\n",
    "param_grid = {'max_depth': [3, 5, 10, None], 'min_samples_split': [2, 5, 10]}\n",
    "\n",
    "# GridSearchCV\n",
    "grid_search = GridSearchCV(DecisionTreeClassifier(random_state=42), param_grid, cv=5)\n",
    "grid_search.fit(X_train, y_train)\n",
    "\n",
    "# Best parameters and accuracy\n",
    "print(\"Best Parameters:\", grid_search.best_params_)\n",
    "print(\"Best Accuracy:\", grid_search.best_score_)\n"
   ]
  },
  {
   "cell_type": "code",
   "execution_count": null,
   "metadata": {},
   "outputs": [
    {
     "name": "stdout",
     "output_type": "stream",
     "text": [
      "   CustomerSegment  Churn\n",
      "0                1      1\n",
      "1                1      1\n",
      "2                1      1\n",
      "3                1      1\n",
      "4                0      1\n"
     ]
    }
   ],
   "source": [
    "from sklearn.cluster import KMeans\n",
    "\n",
    "# Cluster customers\n",
    "kmeans = KMeans(n_clusters=3, random_state=42)\n",
    "data['CustomerSegment'] = kmeans.fit_predict(X)\n",
    "\n",
    "# Check the segmentation\n",
    "print(data[['CustomerSegment', 'Churn']].head())\n"
   ]
  },
  {
   "cell_type": "code",
   "execution_count": null,
   "metadata": {},
   "outputs": [
    {
     "name": "stdout",
     "output_type": "stream",
     "text": [
      "                   CustomerID     Churn    Tenure  CityTier  WarehouseToHome  \\\n",
      "CustomerSegment                                                                \n",
      "0                52442.617986  0.187410 -0.389494  1.639928        -0.013012   \n",
      "1                53027.459440  0.211773  0.234217  1.615219        -0.049607   \n",
      "2                53324.321208  0.090597  0.519239  1.720659         0.072254   \n",
      "\n",
      "                   Gender  HourSpendOnApp  NumberOfDeviceRegistered  \\\n",
      "CustomerSegment                                                       \n",
      "0                0.622302       -0.216639                  3.515108   \n",
      "1                0.580043        0.159190                  3.765255   \n",
      "2                0.580645        0.261156                  3.947838   \n",
      "\n",
      "                 SatisfactionScore  NumberOfAddress  ...  \\\n",
      "CustomerSegment                                      ...   \n",
      "0                         3.096403         2.674820  ...   \n",
      "1                         3.241924         8.049533  ...   \n",
      "2                         2.842828         3.483871  ...   \n",
      "\n",
      "                 PreferredPaymentMode_Debit Card  \\\n",
      "CustomerSegment                                    \n",
      "0                                       0.423022   \n",
      "1                                       0.383345   \n",
      "2                                       0.414550   \n",
      "\n",
      "                 PreferredPaymentMode_E wallet  PreferredPaymentMode_UPI  \\\n",
      "CustomerSegment                                                            \n",
      "0                                     0.102158                  0.080216   \n",
      "1                                     0.106246                  0.072505   \n",
      "2                                     0.124914                  0.061771   \n",
      "\n",
      "                 PreferedOrderCat_Grocery  \\\n",
      "CustomerSegment                             \n",
      "0                                0.012590   \n",
      "1                                0.088299   \n",
      "2                                0.172958   \n",
      "\n",
      "                 PreferedOrderCat_Laptop & Accessory  PreferedOrderCat_Mobile  \\\n",
      "CustomerSegment                                                                 \n",
      "0                                           0.353957                 0.235612   \n",
      "1                                           0.396267                 0.099785   \n",
      "2                                           0.352780                 0.010295   \n",
      "\n",
      "                 PreferedOrderCat_Mobile Phone  PreferedOrderCat_Others  \\\n",
      "CustomerSegment                                                           \n",
      "0                                     0.314748                 0.002518   \n",
      "1                                     0.204594                 0.053841   \n",
      "2                                     0.076184                 0.124914   \n",
      "\n",
      "                 MaritalStatus_Married  MaritalStatus_Single  \n",
      "CustomerSegment                                               \n",
      "0                             0.492086              0.364748  \n",
      "1                             0.527638              0.321608  \n",
      "2                             0.606040              0.229238  \n",
      "\n",
      "[3 rows x 31 columns]\n"
     ]
    }
   ],
   "source": [
    "# Check the mean values of features for each segment\n",
    "print(data.groupby('CustomerSegment').mean())\n"
   ]
  },
  {
   "cell_type": "code",
   "execution_count": null,
   "metadata": {},
   "outputs": [
    {
     "name": "stdout",
     "output_type": "stream",
     "text": [
      "Silhouette Score: 0.15269075331328416\n"
     ]
    }
   ],
   "source": [
    "from sklearn.metrics import silhouette_score\n",
    "score = silhouette_score(X, kmeans.labels_)\n",
    "print(f\"Silhouette Score: {score}\")\n"
   ]
  }
 ],
 "metadata": {
  "kernelspec": {
   "display_name": "Python 3",
   "language": "python",
   "name": "python3"
  },
  "language_info": {
   "codemirror_mode": {
    "name": "ipython",
    "version": 3
   },
   "file_extension": ".py",
   "mimetype": "text/x-python",
   "name": "python",
   "nbconvert_exporter": "python",
   "pygments_lexer": "ipython3",
   "version": "3.11.8"
  }
 },
 "nbformat": 4,
 "nbformat_minor": 2
}
